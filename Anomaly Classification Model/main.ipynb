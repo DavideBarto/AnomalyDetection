{
 "cells": [
  {
   "metadata": {},
   "cell_type": "markdown",
   "source": "# Generate the initial dataset",
   "id": "9d488718908b5f55"
  },
  {
   "cell_type": "code",
   "id": "initial_id",
   "metadata": {
    "collapsed": true,
    "ExecuteTime": {
     "end_time": "2025-01-19T21:02:53.993029Z",
     "start_time": "2025-01-19T21:02:53.981186Z"
    }
   },
   "source": [
    "from generate_dataset import create_dataset\n",
    "X, y = create_dataset(1000)"
   ],
   "outputs": [],
   "execution_count": 2
  },
  {
   "metadata": {},
   "cell_type": "markdown",
   "source": "# Spit Dataset into training and testing",
   "id": "41e8030e651d9c02"
  },
  {
   "metadata": {
    "ExecuteTime": {
     "end_time": "2025-01-19T21:04:12.716916Z",
     "start_time": "2025-01-19T21:04:11.861334Z"
    }
   },
   "cell_type": "code",
   "source": [
    "from sklearn.model_selection import train_test_split\n",
    "\n",
    "X_train, X_test, y_train, y_test = train_test_split(X, y, test_size=0.2, random_state=42)"
   ],
   "id": "c609ca5452b864e",
   "outputs": [],
   "execution_count": 6
  },
  {
   "metadata": {},
   "cell_type": "markdown",
   "source": "# Normilize the data with StandardScaler",
   "id": "d64be6f60965bcfc"
  },
  {
   "metadata": {
    "ExecuteTime": {
     "end_time": "2025-01-19T21:08:23.459708Z",
     "start_time": "2025-01-19T21:08:23.452637Z"
    }
   },
   "cell_type": "code",
   "source": [
    "from sklearn.preprocessing import StandardScaler\n",
    "\n",
    "scaler = StandardScaler()\n",
    "\n",
    "X_train = scaler.fit_transform(X_train.reshape(-1, X_train.shape[1]))\n",
    "X_test = scaler.transform(X_test.reshape(-1, X_test.shape[1]))\n",
    "\n",
    "print(f\"Training set shape: {X_train.shape}, Test set shape: {X_test.shape}\")\n",
    "print(X_train[:5])"
   ],
   "id": "15b2b5b75e2d004a",
   "outputs": [
    {
     "name": "stdout",
     "output_type": "stream",
     "text": [
      "Training set shape: (800, 50), Test set shape: (200, 50)\n",
      "[[ 0.37523911  0.40793165  0.23597626  0.37552626  0.14465571  0.27274617\n",
      "   0.28315054  0.2267013   0.17483204  0.28041255  0.27936597  0.35053707\n",
      "   0.23548174  0.28190248  0.17714117  0.25190858  0.34209655  0.50709758\n",
      "   0.27109065  0.26531868  0.25873853  0.20306934  0.20273211  0.25649335\n",
      "   0.21295973  0.41552863  0.16916562  0.25079491  0.3471063   0.11630049\n",
      "   0.27916163  0.2767796   0.31749687  0.16857689  0.23921474  0.21477458\n",
      "   0.33705542  0.21795564  0.20735398  0.24442702  0.25311827  0.31435904\n",
      "   0.19408365  0.2396765   0.09812061  0.29685463  0.12377204  0.21416073\n",
      "   0.13958995  0.24089236]\n",
      " [ 0.24733225  0.3666534   0.28741563  0.36232507  0.3242297   0.34384426\n",
      "   0.2620083   0.25637587  0.39825616  0.38313163  0.28372583  0.39901674\n",
      "   0.35928264  0.46059807  0.45874126  0.36777923  0.32170121  0.46473275\n",
      "   0.3020985   0.57299523  0.31140805  0.44081127  0.24087435  0.44683994\n",
      "   0.43101654  0.48946819  0.51173424  0.42912464  0.33970388  0.46126395\n",
      "   0.42024358  0.40918159  0.60014209  0.43135161  0.48663586  0.42782573\n",
      "   0.50776093  0.49708602  0.57512319  0.39778456  0.43933595  0.49605769\n",
      "   0.47544113  0.4901545   0.61070077  0.56624771  0.51871915  0.41753584\n",
      "   0.54066737  0.61775058]\n",
      " [ 0.30521964  0.38695536  0.30096692  0.37186989  0.35942093  0.40777345\n",
      "   0.34400766  0.22545874  0.37506498  0.23772738  0.39895655  0.49285825\n",
      "   0.33412189  0.36342708  0.36612091  0.40249187  0.3680984   0.5650424\n",
      "   0.31130229  0.46098929  0.38510394  0.33508758  0.2689794   0.39621598\n",
      "   0.52738206  0.50804156  0.40326113  0.4556878   0.46553189  0.39855417\n",
      "   0.39751966  0.49339428  0.58264804  0.41672338  0.46674309  0.54007175\n",
      "   0.51348708  0.38769921  0.57763294  0.34894767  0.52009326  0.58952467\n",
      "   0.55763184  0.4630629   0.65730418  0.3960189   0.43614974  0.48791237\n",
      "   0.59558441  0.5157061 ]\n",
      " [-2.7125577  -1.74716044 -0.5638813  -3.54669186  0.04528207  1.46729535\n",
      "   1.24002467  0.78486047 -0.63811986 -1.18838618  0.97582883  2.74046409\n",
      "   0.08200348  1.22012855 -1.46917876  0.88091852  0.52508661  0.56732932\n",
      "  -1.05149619 -3.20616963  1.96167537  1.69886723  1.34852163 -0.75683827\n",
      "  -0.06884632  0.28614288  1.79538225 -1.50749273 -0.88585714  0.93168132\n",
      "   0.89859267  4.19339395 -2.8057172  -0.56649306 -1.51832625 -0.49910823\n",
      "  -2.01257794 -0.07592224  2.12454818 -1.56245402 -0.77038757 -1.09481618\n",
      "  -0.64981603  2.19946422 -0.30902374  1.76782594 -0.98962727 -0.11146162\n",
      "  -0.26766002  0.82736518]\n",
      " [ 0.30794196  0.37852478  0.2844445   0.24709925  0.22053998  0.24790665\n",
      "   0.19954457  0.24036911  0.28372293  0.25026363  0.30327069  0.1259102\n",
      "   0.29414965  0.34749115  0.32114009  0.21917487  0.28371859  0.33019902\n",
      "   0.32861568  0.31485271  0.1126761   0.11354655  0.08536766  0.22411169\n",
      "   0.27712741  0.46873481  0.18074026  0.17647247  0.31260248  0.177629\n",
      "   0.14613251  0.27453352  0.26996499  0.28694944  0.23809199  0.16518437\n",
      "   0.21447091  0.1879482   0.22156365  0.09897296  0.16126707  0.26763844\n",
      "   0.24975266  0.23580128  0.19146989  0.1871018   0.09424203  0.26920509\n",
      "   0.19060005  0.08228065]]\n"
     ]
    }
   ],
   "execution_count": 14
  },
  {
   "metadata": {},
   "cell_type": "markdown",
   "source": "",
   "id": "6121a6e2e11bf8ec"
  },
  {
   "metadata": {},
   "cell_type": "markdown",
   "source": "# Train the classification model",
   "id": "d39b2165858dda61"
  },
  {
   "metadata": {
    "ExecuteTime": {
     "end_time": "2025-01-19T21:10:19.366264Z",
     "start_time": "2025-01-19T21:10:19.010725Z"
    }
   },
   "cell_type": "code",
   "source": [
    "from sklearn.ensemble import RandomForestClassifier\n",
    "from sklearn.metrics import classification_report, confusion_matrix\n",
    "\n",
    "# Train Random Forest Classifier\n",
    "clf = RandomForestClassifier(random_state=42)\n",
    "clf.fit(X_train, y_train)\n",
    "\n",
    "# Evaluate the model\n",
    "y_pred = clf.predict(X_test)\n",
    "print(\"Classification Report:\\n\", classification_report(y_test, y_pred))\n",
    "print(\"Confusion Matrix:\\n\", confusion_matrix(y_test, y_pred))\n"
   ],
   "id": "cef674dd8a7596f8",
   "outputs": [
    {
     "name": "stdout",
     "output_type": "stream",
     "text": [
      "Classification Report:\n",
      "               precision    recall  f1-score   support\n",
      "\n",
      "           0       1.00      1.00      1.00        55\n",
      "           1       1.00      1.00      1.00        44\n",
      "           2       1.00      1.00      1.00        51\n",
      "           3       1.00      1.00      1.00        50\n",
      "\n",
      "    accuracy                           1.00       200\n",
      "   macro avg       1.00      1.00      1.00       200\n",
      "weighted avg       1.00      1.00      1.00       200\n",
      "\n",
      "Confusion Matrix:\n",
      " [[55  0  0  0]\n",
      " [ 0 44  0  0]\n",
      " [ 0  0 51  0]\n",
      " [ 0  0  0 50]]\n"
     ]
    }
   ],
   "execution_count": 15
  },
  {
   "metadata": {},
   "cell_type": "markdown",
   "source": "# Visualize the confusion matrix",
   "id": "bbfe949aa9d123d8"
  },
  {
   "metadata": {
    "ExecuteTime": {
     "end_time": "2025-01-19T21:12:11.840720Z",
     "start_time": "2025-01-19T21:12:11.140983Z"
    }
   },
   "cell_type": "code",
   "source": [
    "import seaborn as sns\n",
    "import matplotlib.pyplot as plt\n",
    "from sklearn.metrics import ConfusionMatrixDisplay\n",
    "\n",
    "# Plot confusion matrix\n",
    "disp = ConfusionMatrixDisplay.from_estimator(clf, X_test, y_test, display_labels=[\"Normal\", \"Noise\", \"Drift\", \"Drop\"])\n",
    "disp.figure_.suptitle(\"Confusion Matrix\")\n",
    "plt.show()\n"
   ],
   "id": "c5930aa2d2629c56",
   "outputs": [
    {
     "data": {
      "text/plain": [
       "<Figure size 640x480 with 2 Axes>"
      ],
      "image/png": "[encoded data removed]"
     },
     "metadata": {},
     "output_type": "display_data"
    }
   ],
   "execution_count": 17
  },
  {
   "metadata": {},
   "cell_type": "markdown",
   "source": "# LSTM Model\n",
   "id": "d97f03cf6f782224"
  },
  {
   "metadata": {
    "ExecuteTime": {
     "end_time": "2025-01-19T21:25:39.527782Z",
     "start_time": "2025-01-19T21:25:24.550240Z"
    }
   },
   "cell_type": "code",
   "source": [
    "from tensorflow.keras.models import Sequential\n",
    "from tensorflow.keras.layers import LSTM, Dense\n",
    "\n",
    "# Example LSTM model\n",
    "model = Sequential([\n",
    "    LSTM(50, activation='relu', input_shape=(X_train.shape[1], 1)),\n",
    "    Dense(4, activation='softmax')\n",
    "])\n",
    "model.compile(optimizer='adam', loss='sparse_categorical_crossentropy', metrics=['accuracy'])\n",
    "\n",
    "# Train the LSTM\n",
    "X_train_lstm = X_train.reshape((X_train.shape[0], X_train.shape[1], 1))\n",
    "X_test_lstm = X_test.reshape((X_test.shape[0], X_test.shape[1], 1))\n",
    "model.fit(X_train_lstm, y_train, epochs=50, batch_size=32, validation_split=0.2)\n",
    "\n",
    "# Evaluate the LSTM model\n",
    "lstm_loss, lstm_acc = model.evaluate(X_test_lstm, y_test)\n",
    "print(f\"LSTM Model Accuracy: {lstm_acc}\")\n"
   ],
   "id": "c1563b0806bd3ba",
   "outputs": [
    {
     "name": "stdout",
     "output_type": "stream",
     "text": [
      "Epoch 1/50\n",
      "\u001B[1m20/20\u001B[0m \u001B[32m━━━━━━━━━━━━━━━━━━━━\u001B[0m\u001B[37m\u001B[0m \u001B[1m1s\u001B[0m 21ms/step - accuracy: 0.4417 - loss: 1.3336 - val_accuracy: 0.6625 - val_loss: 1.1290\n",
      "Epoch 2/50\n",
      "\u001B[1m20/20\u001B[0m \u001B[32m━━━━━━━━━━━━━━━━━━━━\u001B[0m\u001B[37m\u001B[0m \u001B[1m0s\u001B[0m 11ms/step - accuracy: 0.7270 - loss: 1.2605 - val_accuracy: 0.7188 - val_loss: 0.8475\n",
      "Epoch 3/50\n",
      "\u001B[1m20/20\u001B[0m \u001B[32m━━━━━━━━━━━━━━━━━━━━\u001B[0m\u001B[37m\u001B[0m \u001B[1m0s\u001B[0m 11ms/step - accuracy: 0.7509 - loss: 0.7932 - val_accuracy: 0.7188 - val_loss: 0.7757\n",
      "Epoch 4/50\n",
      "\u001B[1m20/20\u001B[0m \u001B[32m━━━━━━━━━━━━━━━━━━━━\u001B[0m\u001B[37m\u001B[0m \u001B[1m0s\u001B[0m 13ms/step - accuracy: 0.7223 - loss: 0.8614 - val_accuracy: 0.6875 - val_loss: 0.9668\n",
      "Epoch 5/50\n",
      "\u001B[1m20/20\u001B[0m \u001B[32m━━━━━━━━━━━━━━━━━━━━\u001B[0m\u001B[37m\u001B[0m \u001B[1m0s\u001B[0m 12ms/step - accuracy: 0.7484 - loss: 0.8623 - val_accuracy: 0.7188 - val_loss: 0.7110\n",
      "Epoch 6/50\n",
      "\u001B[1m20/20\u001B[0m \u001B[32m━━━━━━━━━━━━━━━━━━━━\u001B[0m\u001B[37m\u001B[0m \u001B[1m0s\u001B[0m 12ms/step - accuracy: 0.7173 - loss: 0.8355 - val_accuracy: 0.7250 - val_loss: 0.7191\n",
      "Epoch 7/50\n",
      "\u001B[1m20/20\u001B[0m \u001B[32m━━━━━━━━━━━━━━━━━━━━\u001B[0m\u001B[37m\u001B[0m \u001B[1m0s\u001B[0m 12ms/step - accuracy: 0.7687 - loss: 0.6802 - val_accuracy: 0.7250 - val_loss: 0.6997\n",
      "Epoch 8/50\n",
      "\u001B[1m20/20\u001B[0m \u001B[32m━━━━━━━━━━━━━━━━━━━━\u001B[0m\u001B[37m\u001B[0m \u001B[1m0s\u001B[0m 12ms/step - accuracy: 0.7677 - loss: 0.6442 - val_accuracy: 0.7250 - val_loss: 0.6488\n",
      "Epoch 9/50\n",
      "\u001B[1m20/20\u001B[0m \u001B[32m━━━━━━━━━━━━━━━━━━━━\u001B[0m\u001B[37m\u001B[0m \u001B[1m0s\u001B[0m 12ms/step - accuracy: 0.7517 - loss: 0.6447 - val_accuracy: 0.7250 - val_loss: 0.6375\n",
      "Epoch 10/50\n",
      "\u001B[1m20/20\u001B[0m \u001B[32m━━━━━━━━━━━━━━━━━━━━\u001B[0m\u001B[37m\u001B[0m \u001B[1m0s\u001B[0m 13ms/step - accuracy: 0.7719 - loss: 15.4316 - val_accuracy: 0.7188 - val_loss: 0.7594\n",
      "Epoch 11/50\n",
      "\u001B[1m20/20\u001B[0m \u001B[32m━━━━━━━━━━━━━━━━━━━━\u001B[0m\u001B[37m\u001B[0m \u001B[1m0s\u001B[0m 13ms/step - accuracy: 0.7572 - loss: 0.7638 - val_accuracy: 0.7188 - val_loss: 0.7875\n",
      "Epoch 12/50\n",
      "\u001B[1m20/20\u001B[0m \u001B[32m━━━━━━━━━━━━━━━━━━━━\u001B[0m\u001B[37m\u001B[0m \u001B[1m0s\u001B[0m 12ms/step - accuracy: 0.7471 - loss: 0.7433 - val_accuracy: 0.7188 - val_loss: 0.7801\n",
      "Epoch 13/50\n",
      "\u001B[1m20/20\u001B[0m \u001B[32m━━━━━━━━━━━━━━━━━━━━\u001B[0m\u001B[37m\u001B[0m \u001B[1m0s\u001B[0m 13ms/step - accuracy: 0.7359 - loss: 0.7335 - val_accuracy: 0.7188 - val_loss: 0.7679\n",
      "Epoch 14/50\n",
      "\u001B[1m20/20\u001B[0m \u001B[32m━━━━━━━━━━━━━━━━━━━━\u001B[0m\u001B[37m\u001B[0m \u001B[1m0s\u001B[0m 12ms/step - accuracy: 0.7397 - loss: 0.7318 - val_accuracy: 0.7188 - val_loss: 0.7560\n",
      "Epoch 15/50\n",
      "\u001B[1m20/20\u001B[0m \u001B[32m━━━━━━━━━━━━━━━━━━━━\u001B[0m\u001B[37m\u001B[0m \u001B[1m0s\u001B[0m 12ms/step - accuracy: 0.7424 - loss: 0.7140 - val_accuracy: 0.7188 - val_loss: 0.7441\n",
      "Epoch 16/50\n",
      "\u001B[1m20/20\u001B[0m \u001B[32m━━━━━━━━━━━━━━━━━━━━\u001B[0m\u001B[37m\u001B[0m \u001B[1m0s\u001B[0m 12ms/step - accuracy: 0.7112 - loss: 0.7286 - val_accuracy: 0.7188 - val_loss: 0.7322\n",
      "Epoch 17/50\n",
      "\u001B[1m20/20\u001B[0m \u001B[32m━━━━━━━━━━━━━━━━━━━━\u001B[0m\u001B[37m\u001B[0m \u001B[1m0s\u001B[0m 13ms/step - accuracy: 0.7297 - loss: 0.6995 - val_accuracy: 0.7188 - val_loss: 0.7204\n",
      "Epoch 18/50\n",
      "\u001B[1m20/20\u001B[0m \u001B[32m━━━━━━━━━━━━━━━━━━━━\u001B[0m\u001B[37m\u001B[0m \u001B[1m0s\u001B[0m 12ms/step - accuracy: 0.7557 - loss: 0.6523 - val_accuracy: 0.7188 - val_loss: 0.7088\n",
      "Epoch 19/50\n",
      "\u001B[1m20/20\u001B[0m \u001B[32m━━━━━━━━━━━━━━━━━━━━\u001B[0m\u001B[37m\u001B[0m \u001B[1m0s\u001B[0m 12ms/step - accuracy: 0.7409 - loss: 0.6676 - val_accuracy: 0.7188 - val_loss: 0.6970\n",
      "Epoch 20/50\n",
      "\u001B[1m20/20\u001B[0m \u001B[32m━━━━━━━━━━━━━━━━━━━━\u001B[0m\u001B[37m\u001B[0m \u001B[1m0s\u001B[0m 13ms/step - accuracy: 0.7922 - loss: 0.6343 - val_accuracy: 0.7188 - val_loss: 0.6852\n",
      "Epoch 21/50\n",
      "\u001B[1m20/20\u001B[0m \u001B[32m━━━━━━━━━━━━━━━━━━━━\u001B[0m\u001B[37m\u001B[0m \u001B[1m0s\u001B[0m 12ms/step - accuracy: 0.7585 - loss: 0.6260 - val_accuracy: 0.7188 - val_loss: 0.6729\n",
      "Epoch 22/50\n",
      "\u001B[1m20/20\u001B[0m \u001B[32m━━━━━━━━━━━━━━━━━━━━\u001B[0m\u001B[37m\u001B[0m \u001B[1m0s\u001B[0m 12ms/step - accuracy: 0.7449 - loss: 0.6485 - val_accuracy: 0.7188 - val_loss: 0.6605\n",
      "Epoch 23/50\n",
      "\u001B[1m20/20\u001B[0m \u001B[32m━━━━━━━━━━━━━━━━━━━━\u001B[0m\u001B[37m\u001B[0m \u001B[1m0s\u001B[0m 13ms/step - accuracy: 0.7295 - loss: 0.6300 - val_accuracy: 0.7188 - val_loss: 0.6480\n",
      "Epoch 24/50\n",
      "\u001B[1m20/20\u001B[0m \u001B[32m━━━━━━━━━━━━━━━━━━━━\u001B[0m\u001B[37m\u001B[0m \u001B[1m0s\u001B[0m 13ms/step - accuracy: 0.7378 - loss: 0.6245 - val_accuracy: 0.7188 - val_loss: 0.6355\n",
      "Epoch 25/50\n",
      "\u001B[1m20/20\u001B[0m \u001B[32m━━━━━━━━━━━━━━━━━━━━\u001B[0m\u001B[37m\u001B[0m \u001B[1m0s\u001B[0m 12ms/step - accuracy: 0.7594 - loss: 0.5968 - val_accuracy: 0.7188 - val_loss: 0.6233\n",
      "Epoch 26/50\n",
      "\u001B[1m20/20\u001B[0m \u001B[32m━━━━━━━━━━━━━━━━━━━━\u001B[0m\u001B[37m\u001B[0m \u001B[1m0s\u001B[0m 13ms/step - accuracy: 0.7486 - loss: 0.5845 - val_accuracy: 0.7188 - val_loss: 0.6102\n",
      "Epoch 27/50\n",
      "\u001B[1m20/20\u001B[0m \u001B[32m━━━━━━━━━━━━━━━━━━━━\u001B[0m\u001B[37m\u001B[0m \u001B[1m0s\u001B[0m 12ms/step - accuracy: 0.7318 - loss: 0.5824 - val_accuracy: 0.7188 - val_loss: 0.5971\n",
      "Epoch 28/50\n",
      "\u001B[1m20/20\u001B[0m \u001B[32m━━━━━━━━━━━━━━━━━━━━\u001B[0m\u001B[37m\u001B[0m \u001B[1m0s\u001B[0m 13ms/step - accuracy: 0.7412 - loss: 0.5716 - val_accuracy: 0.7188 - val_loss: 0.5839\n",
      "Epoch 29/50\n",
      "\u001B[1m20/20\u001B[0m \u001B[32m━━━━━━━━━━━━━━━━━━━━\u001B[0m\u001B[37m\u001B[0m \u001B[1m0s\u001B[0m 12ms/step - accuracy: 0.7433 - loss: 0.5634 - val_accuracy: 0.7188 - val_loss: 0.5698\n",
      "Epoch 30/50\n",
      "\u001B[1m20/20\u001B[0m \u001B[32m━━━━━━━━━━━━━━━━━━━━\u001B[0m\u001B[37m\u001B[0m \u001B[1m0s\u001B[0m 12ms/step - accuracy: 0.7796 - loss: 0.5167 - val_accuracy: 0.7188 - val_loss: 0.5549\n",
      "Epoch 31/50\n",
      "\u001B[1m20/20\u001B[0m \u001B[32m━━━━━━━━━━━━━━━━━━━━\u001B[0m\u001B[37m\u001B[0m \u001B[1m0s\u001B[0m 12ms/step - accuracy: 0.7707 - loss: 0.5117 - val_accuracy: 0.7188 - val_loss: 0.5380\n",
      "Epoch 32/50\n",
      "\u001B[1m20/20\u001B[0m \u001B[32m━━━━━━━━━━━━━━━━━━━━\u001B[0m\u001B[37m\u001B[0m \u001B[1m0s\u001B[0m 12ms/step - accuracy: 0.7498 - loss: 0.5072 - val_accuracy: 0.7188 - val_loss: 0.5195\n",
      "Epoch 33/50\n",
      "\u001B[1m20/20\u001B[0m \u001B[32m━━━━━━━━━━━━━━━━━━━━\u001B[0m\u001B[37m\u001B[0m \u001B[1m0s\u001B[0m 12ms/step - accuracy: 0.7553 - loss: 0.4963 - val_accuracy: 0.7188 - val_loss: 0.5004\n",
      "Epoch 34/50\n",
      "\u001B[1m20/20\u001B[0m \u001B[32m━━━━━━━━━━━━━━━━━━━━\u001B[0m\u001B[37m\u001B[0m \u001B[1m0s\u001B[0m 12ms/step - accuracy: 0.7538 - loss: 0.4606 - val_accuracy: 0.7188 - val_loss: 0.4879\n",
      "Epoch 35/50\n",
      "\u001B[1m20/20\u001B[0m \u001B[32m━━━━━━━━━━━━━━━━━━━━\u001B[0m\u001B[37m\u001B[0m \u001B[1m0s\u001B[0m 12ms/step - accuracy: 0.7573 - loss: 0.4390 - val_accuracy: 0.7188 - val_loss: 0.4800\n",
      "Epoch 36/50\n",
      "\u001B[1m20/20\u001B[0m \u001B[32m━━━━━━━━━━━━━━━━━━━━\u001B[0m\u001B[37m\u001B[0m \u001B[1m0s\u001B[0m 12ms/step - accuracy: 0.7744 - loss: 0.4447 - val_accuracy: 0.7188 - val_loss: 0.4728\n",
      "Epoch 37/50\n",
      "\u001B[1m20/20\u001B[0m \u001B[32m━━━━━━━━━━━━━━━━━━━━\u001B[0m\u001B[37m\u001B[0m \u001B[1m0s\u001B[0m 13ms/step - accuracy: 0.7655 - loss: 0.4472 - val_accuracy: 0.7188 - val_loss: 0.4661\n",
      "Epoch 38/50\n",
      "\u001B[1m20/20\u001B[0m \u001B[32m━━━━━━━━━━━━━━━━━━━━\u001B[0m\u001B[37m\u001B[0m \u001B[1m0s\u001B[0m 12ms/step - accuracy: 0.7762 - loss: 0.4467 - val_accuracy: 0.7188 - val_loss: 0.4597\n",
      "Epoch 39/50\n",
      "\u001B[1m20/20\u001B[0m \u001B[32m━━━━━━━━━━━━━━━━━━━━\u001B[0m\u001B[37m\u001B[0m \u001B[1m0s\u001B[0m 12ms/step - accuracy: 0.7759 - loss: 0.4151 - val_accuracy: 0.7250 - val_loss: 0.4537\n",
      "Epoch 40/50\n",
      "\u001B[1m20/20\u001B[0m \u001B[32m━━━━━━━━━━━━━━━━━━━━\u001B[0m\u001B[37m\u001B[0m \u001B[1m0s\u001B[0m 12ms/step - accuracy: 0.7761 - loss: 0.4127 - val_accuracy: 0.7250 - val_loss: 0.4478\n",
      "Epoch 41/50\n",
      "\u001B[1m20/20\u001B[0m \u001B[32m━━━━━━━━━━━━━━━━━━━━\u001B[0m\u001B[37m\u001B[0m \u001B[1m0s\u001B[0m 12ms/step - accuracy: 0.7977 - loss: 0.4032 - val_accuracy: 0.7250 - val_loss: 0.4422\n",
      "Epoch 42/50\n",
      "\u001B[1m20/20\u001B[0m \u001B[32m━━━━━━━━━━━━━━━━━━━━\u001B[0m\u001B[37m\u001B[0m \u001B[1m0s\u001B[0m 13ms/step - accuracy: 0.7786 - loss: 0.5676 - val_accuracy: 0.8062 - val_loss: 0.5772\n",
      "Epoch 43/50\n",
      "\u001B[1m20/20\u001B[0m \u001B[32m━━━━━━━━━━━━━━━━━━━━\u001B[0m\u001B[37m\u001B[0m \u001B[1m0s\u001B[0m 13ms/step - accuracy: 0.8312 - loss: 0.5654 - val_accuracy: 0.8000 - val_loss: 0.6314\n",
      "Epoch 44/50\n",
      "\u001B[1m20/20\u001B[0m \u001B[32m━━━━━━━━━━━━━━━━━━━━\u001B[0m\u001B[37m\u001B[0m \u001B[1m0s\u001B[0m 13ms/step - accuracy: 0.7966 - loss: 0.6241 - val_accuracy: 0.8188 - val_loss: 0.6233\n",
      "Epoch 45/50\n",
      "\u001B[1m20/20\u001B[0m \u001B[32m━━━━━━━━━━━━━━━━━━━━\u001B[0m\u001B[37m\u001B[0m \u001B[1m0s\u001B[0m 13ms/step - accuracy: 0.8273 - loss: 0.6104 - val_accuracy: 0.8438 - val_loss: 0.6094\n",
      "Epoch 46/50\n",
      "\u001B[1m20/20\u001B[0m \u001B[32m━━━━━━━━━━━━━━━━━━━━\u001B[0m\u001B[37m\u001B[0m \u001B[1m0s\u001B[0m 13ms/step - accuracy: 0.8375 - loss: 0.6033 - val_accuracy: 0.8438 - val_loss: 0.5963\n",
      "Epoch 47/50\n",
      "\u001B[1m20/20\u001B[0m \u001B[32m━━━━━━━━━━━━━━━━━━━━\u001B[0m\u001B[37m\u001B[0m \u001B[1m0s\u001B[0m 13ms/step - accuracy: 0.8579 - loss: 0.5689 - val_accuracy: 0.8500 - val_loss: 0.5839\n",
      "Epoch 48/50\n",
      "\u001B[1m20/20\u001B[0m \u001B[32m━━━━━━━━━━━━━━━━━━━━\u001B[0m\u001B[37m\u001B[0m \u001B[1m0s\u001B[0m 12ms/step - accuracy: 0.8645 - loss: 0.5552 - val_accuracy: 0.8687 - val_loss: 0.5723\n",
      "Epoch 49/50\n",
      "\u001B[1m20/20\u001B[0m \u001B[32m━━━━━━━━━━━━━━━━━━━━\u001B[0m\u001B[37m\u001B[0m \u001B[1m0s\u001B[0m 13ms/step - accuracy: 0.8683 - loss: 0.5622 - val_accuracy: 0.9125 - val_loss: 0.5611\n",
      "Epoch 50/50\n",
      "\u001B[1m20/20\u001B[0m \u001B[32m━━━━━━━━━━━━━━━━━━━━\u001B[0m\u001B[37m\u001B[0m \u001B[1m0s\u001B[0m 12ms/step - accuracy: 0.9132 - loss: 0.5259 - val_accuracy: 0.9312 - val_loss: 0.5505\n",
      "\u001B[1m7/7\u001B[0m \u001B[32m━━━━━━━━━━━━━━━━━━━━\u001B[0m\u001B[37m\u001B[0m \u001B[1m0s\u001B[0m 8ms/step - accuracy: 0.9397 - loss: 0.5713  \n",
      "LSTM Model Accuracy: 0.9399999976158142\n"
     ]
    }
   ],
   "execution_count": 22
  },
  {
   "metadata": {},
   "cell_type": "markdown",
   "source": "# Deploy the model",
   "id": "9aa78aead0a5e44c"
  },
  {
   "metadata": {
    "ExecuteTime": {
     "end_time": "2025-01-19T21:24:34.243943Z",
     "start_time": "2025-01-19T21:24:34.212052Z"
    }
   },
   "cell_type": "code",
   "source": [
    "import joblib\n",
    "\n",
    "# Save the Random Forest model\n",
    "joblib.dump(clf, 'anomaly_classifier.pkl')\n",
    "print(\"Model saved as 'anomaly_classifier.pkl'\")\n"
   ],
   "id": "1f3231557db58b8b",
   "outputs": [
    {
     "name": "stdout",
     "output_type": "stream",
     "text": [
      "Model saved as 'anomaly_classifier.pkl'\n"
     ]
    }
   ],
   "execution_count": 21
  }
 ],
 "metadata": {
  "kernelspec": {
   "display_name": "Python 3",
   "language": "python",
   "name": "python3"
  },
  "language_info": {
   "codemirror_mode": {
    "name": "ipython",
    "version": 2
   },
   "file_extension": ".py",
   "mimetype": "text/x-python",
   "name": "python",
   "nbconvert_exporter": "python",
   "pygments_lexer": "ipython2",
   "version": "2.7.6"
  }
 },
 "nbformat": 4,
 "nbformat_minor": 5
}
